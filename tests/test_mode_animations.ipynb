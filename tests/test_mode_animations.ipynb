{
 "cells": [
  {
   "cell_type": "markdown",
   "id": "59af869d",
   "metadata": {},
   "source": [
    "# Test Advanced FMR Mode Animations\n",
    "\n",
    "This notebook demonstrates the new advanced animation capabilities for FMR modes including:\n",
    "- Temporal animations (real part oscillating in time)\n",
    "- Frequency sweep animations\n",
    "- Phase evolution animations\n",
    "- Custom colormaps including cmocean\n",
    "- Symmetric normalization for diverging data"
   ]
  },
  {
   "cell_type": "code",
   "execution_count": null,
   "id": "707a5a0e",
   "metadata": {},
   "outputs": [],
   "source": [
    "%load_ext autoreload\n",
    "%autoreload 2\n",
    "\n",
    "import numpy as np\n",
    "import matplotlib.pyplot as plt\n",
    "from mmpp import MMPP\n",
    "from mmpp.fft.modes import FMRModeAnalyzer, ModeVisualizationConfig, MidpointNormalize\n",
    "\n",
    "# Try to import cmocean for better scientific colormaps\n",
    "try:\n",
    "    import cmocean\n",
    "\n",
    "    print(\"✅ cmocean available - using scientific colormaps\")\n",
    "    CMOCEAN_AVAILABLE = True\n",
    "except ImportError:\n",
    "    print(\"⚠️  cmocean not available - using matplotlib colormaps\")\n",
    "    CMOCEAN_AVAILABLE = False"
   ]
  },
  {
   "cell_type": "markdown",
   "id": "43128cc2",
   "metadata": {},
   "source": [
    "## Load Data and Prepare"
   ]
  },
  {
   "cell_type": "code",
   "execution_count": null,
   "id": "45c11ac3",
   "metadata": {},
   "outputs": [],
   "source": [
    "# Load your data\n",
    "op = MMPP(\n",
    "    \"/mnt/storage_2/scratch/pl0095-01/zelent/mannga/Pawel/bowtie_film_sweep_2.14GHz/MZ/v1\"\n",
    ")\n",
    "lista = op.scan(force=False)\n",
    "\n",
    "print(f\"Loaded {len(op)} simulation results\")\n",
    "print(f\"Available datasets: {list(op[0].zarr_file.keys())[:10]}...\")  # Show first 10"
   ]
  },
  {
   "cell_type": "markdown",
   "id": "c163408b",
   "metadata": {},
   "source": [
    "## Test MidpointNormalize Class"
   ]
  },
  {
   "cell_type": "code",
   "execution_count": null,
   "id": "e821ce86",
   "metadata": {},
   "outputs": [],
   "source": [
    "# Test the MidpointNormalize class\n",
    "vals = np.array([[-5.0, 0], [5, 10]])\n",
    "vmin = vals.min()\n",
    "vmax = vals.max()\n",
    "\n",
    "# Create normalizations\n",
    "norm_standard = plt.Normalize(vmin=vmin, vmax=vmax)\n",
    "norm_midpoint = MidpointNormalize(vmin=vmin, vmax=vmax, midpoint=0)\n",
    "\n",
    "# Test data\n",
    "test_vals = np.array([-5, -2.5, 0, 2.5, 5, 7.5, 10])\n",
    "\n",
    "print(\"Value\\tStandard\\tMidpoint\")\n",
    "print(\"-\" * 30)\n",
    "for val in test_vals:\n",
    "    std_norm = norm_standard(val)\n",
    "    mid_norm = norm_midpoint(val)\n",
    "    print(f\"{val:4.1f}\\t{std_norm:.3f}\\t\\t{mid_norm:.3f}\")\n",
    "\n",
    "print(\"\\n✅ MidpointNormalize working correctly!\")\n",
    "print(\"Notice how value 0 maps to 0.5 in midpoint normalization\")"
   ]
  },
  {
   "cell_type": "markdown",
   "id": "2c74cd45",
   "metadata": {},
   "source": [
    "## Create Mode Analyzer with Advanced Configuration"
   ]
  },
  {
   "cell_type": "code",
   "execution_count": null,
   "id": "55533faf",
   "metadata": {},
   "outputs": [],
   "source": [
    "# Create configuration with new animation options\n",
    "config = ModeVisualizationConfig(\n",
    "    colormap_animation=\"balance\"\n",
    "    if CMOCEAN_AVAILABLE\n",
    "    else \"RdBu_r\",  # Diverging colormap\n",
    "    use_midpoint_norm=True,  # Use symmetric normalization\n",
    "    animation_time_steps=60,  # 60 frames per oscillation\n",
    "    figsize=(12, 10),\n",
    "    dpi=100,\n",
    ")\n",
    "\n",
    "# Create analyzer\n",
    "analyzer = FMRModeAnalyzer(\n",
    "    zarr_path=op[0].path,\n",
    "    dataset_name=\"m_z5-8\",  # Choose appropriate dataset\n",
    "    config=config,\n",
    "    debug=True,\n",
    ")\n",
    "\n",
    "print(f\"✅ Analyzer created for dataset: {analyzer.dataset_name}\")"
   ]
  },
  {
   "cell_type": "markdown",
   "id": "3e84dbb0",
   "metadata": {},
   "source": [
    "## Compute Modes (if needed)"
   ]
  },
  {
   "cell_type": "code",
   "execution_count": null,
   "id": "13c603f6",
   "metadata": {},
   "outputs": [],
   "source": [
    "# Check if modes exist, compute if needed\n",
    "if not analyzer.modes_available:\n",
    "    print(\"Computing FMR modes...\")\n",
    "    analyzer.compute_modes(z_slice=slice(None), window=True, save=True)\n",
    "    print(\"✅ Modes computed!\")\n",
    "else:\n",
    "    print(\"✅ Modes already available!\")\n",
    "\n",
    "# Show frequency range\n",
    "print(\n",
    "    f\"Frequency range: {analyzer.frequencies[0]:.3f} - {analyzer.frequencies[-1]:.3f} GHz\"\n",
    ")\n",
    "print(f\"Number of frequency points: {len(analyzer.frequencies)}\")"
   ]
  },
  {
   "cell_type": "markdown",
   "id": "bb459221",
   "metadata": {},
   "source": [
    "## Find Peaks for Animation Targets"
   ]
  },
  {
   "cell_type": "code",
   "execution_count": null,
   "id": "d5c18b98",
   "metadata": {},
   "outputs": [],
   "source": [
    "# Find peaks in spectrum\n",
    "peaks = analyzer.find_peaks(threshold=0.1)\n",
    "\n",
    "print(f\"Found {len(peaks)} peaks:\")\n",
    "for i, peak in enumerate(peaks[:5]):  # Show first 5\n",
    "    print(f\"  {i + 1}. {peak.freq:.3f} GHz (amplitude: {peak.amplitude:.3f})\")\n",
    "\n",
    "# Choose a strong peak for animation\n",
    "if peaks:\n",
    "    target_freq = peaks[0].freq\n",
    "    print(f\"\\n🎯 Will use {target_freq:.3f} GHz for temporal animations\")\n",
    "else:\n",
    "    target_freq = 2.5  # Fallback\n",
    "    print(f\"\\n🎯 No peaks found, using {target_freq} GHz\")"
   ]
  },
  {
   "cell_type": "markdown",
   "id": "189064a8",
   "metadata": {},
   "source": [
    "## Test Animation Types"
   ]
  },
  {
   "cell_type": "code",
   "execution_count": null,
   "id": "6e977fca",
   "metadata": {},
   "outputs": [],
   "source": [
    "# Test different animation types\n",
    "print(\"🎬 Creating animations...\")\n",
    "print(\"This may take a few minutes...\")\n",
    "\n",
    "# 1. Temporal animation - Real part oscillating\n",
    "print(\"\\n1. Creating temporal animation (real part oscillation)...\")\n",
    "try:\n",
    "    analyzer.save_modes_animation(\n",
    "        frequency=target_freq,\n",
    "        save_path=\"temporal_animation.gif\",\n",
    "        animation_type=\"temporal\",\n",
    "        component=\"z\",\n",
    "        fps=15,\n",
    "        use_midpoint_norm=True,\n",
    "        colormap=\"balance\" if CMOCEAN_AVAILABLE else \"RdBu_r\",\n",
    "    )\n",
    "    print(\"✅ Temporal animation saved as 'temporal_animation.gif'\")\n",
    "except Exception as e:\n",
    "    print(f\"❌ Temporal animation failed: {e}\")"
   ]
  },
  {
   "cell_type": "code",
   "execution_count": null,
   "id": "5bbcda03",
   "metadata": {},
   "outputs": [],
   "source": [
    "# 2. Phase evolution animation\n",
    "print(\"\\n2. Creating phase evolution animation...\")\n",
    "try:\n",
    "    analyzer.save_modes_animation(\n",
    "        frequency=target_freq,\n",
    "        save_path=\"phase_animation.gif\",\n",
    "        animation_type=\"phase\",\n",
    "        component=\"z\",\n",
    "        fps=12,\n",
    "    )\n",
    "    print(\"✅ Phase animation saved as 'phase_animation.gif'\")\n",
    "except Exception as e:\n",
    "    print(f\"❌ Phase animation failed: {e}\")"
   ]
  },
  {
   "cell_type": "code",
   "execution_count": null,
   "id": "350238f1",
   "metadata": {},
   "outputs": [],
   "source": [
    "# 3. Frequency sweep animation\n",
    "if len(peaks) >= 2:\n",
    "    print(\"\\n3. Creating frequency sweep animation...\")\n",
    "    try:\n",
    "        # Use range around first two peaks\n",
    "        f_min = max(peaks[0].freq - 0.5, analyzer.frequencies[0])\n",
    "        f_max = min(peaks[1].freq + 0.5, analyzer.frequencies[-1])\n",
    "\n",
    "        analyzer.save_modes_animation(\n",
    "            frequency_range=(f_min, f_max),\n",
    "            save_path=\"frequency_sweep.gif\",\n",
    "            animation_type=\"frequency\",\n",
    "            component=\"z\",\n",
    "            fps=8,  # Slower for frequency sweep\n",
    "        )\n",
    "        print(f\"✅ Frequency sweep animation saved as 'frequency_sweep.gif'\")\n",
    "        print(f\"   Range: {f_min:.3f} - {f_max:.3f} GHz\")\n",
    "    except Exception as e:\n",
    "        print(f\"❌ Frequency sweep failed: {e}\")\n",
    "else:\n",
    "    print(\"\\n⚠️  Skipping frequency sweep - need at least 2 peaks\")"
   ]
  },
  {
   "cell_type": "markdown",
   "id": "4fa53e96",
   "metadata": {},
   "source": [
    "## Test Interface Syntax"
   ]
  },
  {
   "cell_type": "code",
   "execution_count": null,
   "id": "846136f2",
   "metadata": {},
   "outputs": [],
   "source": [
    "# Test the high-level interface\n",
    "print(\"🔧 Testing high-level interface...\")\n",
    "\n",
    "try:\n",
    "    # This should work with the improved interface\n",
    "    op[0].fft.modes.save_modes_animation(\n",
    "        frequency=target_freq,\n",
    "        save_path=\"interface_temporal.gif\",\n",
    "        dset=\"m_z5-8\",\n",
    "        animation_type=\"temporal\",\n",
    "        component=\"z\",\n",
    "        fps=10,\n",
    "        use_midpoint_norm=True,\n",
    "    )\n",
    "    print(\"✅ High-level interface works!\")\n",
    "    print(\"   Saved as 'interface_temporal.gif'\")\n",
    "except Exception as e:\n",
    "    print(f\"❌ Interface test failed: {e}\")"
   ]
  },
  {
   "cell_type": "markdown",
   "id": "0f4cc3fa",
   "metadata": {},
   "source": [
    "## Test Different Components and Colormaps"
   ]
  },
  {
   "cell_type": "code",
   "execution_count": null,
   "id": "197d1e75",
   "metadata": {},
   "outputs": [],
   "source": [
    "# Test different components and colormaps\n",
    "print(\"🎨 Testing different components and colormaps...\")\n",
    "\n",
    "components = [\"x\", \"y\", \"z\"]\n",
    "colormaps = (\n",
    "    [\"balance\", \"diff\", \"curl\"]\n",
    "    if CMOCEAN_AVAILABLE\n",
    "    else [\"RdBu_r\", \"seismic\", \"coolwarm\"]\n",
    ")\n",
    "\n",
    "for i, (comp, cmap) in enumerate(zip(components, colormaps)):\n",
    "    try:\n",
    "        filename = f\"component_{comp}_cmap_{cmap.replace('.', '_')}.gif\"\n",
    "\n",
    "        analyzer.save_modes_animation(\n",
    "            frequency=target_freq,\n",
    "            save_path=filename,\n",
    "            animation_type=\"temporal\",\n",
    "            component=comp,\n",
    "            colormap=cmap,\n",
    "            fps=10,\n",
    "            figsize=(8, 6),  # Smaller for testing\n",
    "        )\n",
    "        print(f\"✅ Created {filename}\")\n",
    "\n",
    "        if i >= 2:  # Limit to 3 test animations\n",
    "            break\n",
    "\n",
    "    except Exception as e:\n",
    "        print(f\"❌ Failed {comp} component with {cmap}: {e}\")"
   ]
  },
  {
   "cell_type": "markdown",
   "id": "7002a92c",
   "metadata": {},
   "source": [
    "## Summary"
   ]
  },
  {
   "cell_type": "code",
   "execution_count": null,
   "id": "4353c20e",
   "metadata": {},
   "outputs": [],
   "source": [
    "import os\n",
    "\n",
    "print(\"📋 Animation Summary\")\n",
    "print(\"=\" * 40)\n",
    "\n",
    "# List created files\n",
    "gif_files = [\n",
    "    f for f in os.listdir(\".\") if f.endswith(\".gif\") and \"animation\" in f.lower()\n",
    "]\n",
    "\n",
    "if gif_files:\n",
    "    print(f\"✅ Successfully created {len(gif_files)} animations:\")\n",
    "    for gif in sorted(gif_files):\n",
    "        size = os.path.getsize(gif) / 1024 / 1024  # MB\n",
    "        print(f\"   📁 {gif} ({size:.1f} MB)\")\n",
    "else:\n",
    "    print(\"❌ No animations were created successfully\")\n",
    "\n",
    "print(\"\\n🎯 Key Features Tested:\")\n",
    "print(\"   ✅ MidpointNormalize for symmetric coloring\")\n",
    "print(\"   ✅ Temporal animation (real part oscillation)\")\n",
    "print(\"   ✅ Phase evolution animation\")\n",
    "print(\"   ✅ Frequency sweep animation\")\n",
    "print(\"   ✅ Multiple components (x, y, z)\")\n",
    "print(\"   ✅ Scientific colormaps (cmocean if available)\")\n",
    "print(\"   ✅ High-level interface integration\")\n",
    "\n",
    "print(\"\\n💡 Usage Examples:\")\n",
    "print(\"   # Temporal animation:\")\n",
    "print(\"   analyzer.save_modes_animation(frequency=2.5, animation_type='temporal')\")\n",
    "print(\"\")\n",
    "print(\"   # Frequency sweep:\")\n",
    "print(\n",
    "    \"   analyzer.save_modes_animation(frequency_range=(1.0, 3.0), animation_type='frequency')\"\n",
    ")\n",
    "print(\"\")\n",
    "print(\"   # Phase evolution:\")\n",
    "print(\"   analyzer.save_modes_animation(frequency=2.5, animation_type='phase')\")"
   ]
  }
 ],
 "metadata": {
  "language_info": {
   "name": "python"
  }
 },
 "nbformat": 4,
 "nbformat_minor": 5
}
